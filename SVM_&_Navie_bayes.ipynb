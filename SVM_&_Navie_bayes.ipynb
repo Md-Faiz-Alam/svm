{
  "nbformat": 4,
  "nbformat_minor": 0,
  "metadata": {
    "colab": {
      "provenance": []
    },
    "kernelspec": {
      "name": "python3",
      "display_name": "Python 3"
    },
    "language_info": {
      "name": "python"
    }
  },
  "cells": [
    {
      "cell_type": "markdown",
      "source": [
        "---\n",
        "---\n",
        "# SVM & Navie bayes Theoretical Answers:-\n",
        "---\n",
        "---\n",
        "\n",
        "###1. What is a Support Vector Machine (SVM)?\n",
        "A Support Vector Machine is a supervised machine learning algorithm used for classification and regression tasks. It works by finding the optimal hyperplane that best separates the data into classes. For linear separation, this hyperplane maximizes the margin between the closest data points of different classes (called support vectors).\n",
        "\n",
        "---\n",
        "###2. What is the difference between Hard Margin and Soft Margin SVM?\n",
        "Hard Margin SVM: Assumes data is perfectly linearly separable. It doesn't allow any misclassification, which makes it sensitive to noise or outliers.\n",
        "\n",
        "Soft Margin SVM: Allows some misclassifications using a slack variable. It's more practical and robust in real-world scenarios where perfect separation isn’t possible.\n",
        "\n",
        "---\n",
        "###3. What is the mathematical intuition behind SVM?\n",
        "SVM aims to maximize the margin between two classes. For a linear SVM, the decision function is:\n",
        "f(x) = w^Tx + b\n",
        "it solves the optimization problem:\n",
        "min 1/2||w||2 subject to y: (w^Txi + b) >1\n",
        "This minimizes the norm of the weight vector w, effectively maximizing the margin between the support vectors.\n",
        "\n",
        "---\n",
        "### 4. What is the role of Lagrange Multipliers in SVM?\n",
        "Lagrange Multipliers help solve the constrained optimization problem by converting it into its dual form:\n",
        "max∑αi − 1/2 ∑ α iα jy iy jx iTxj​\n",
        "\n",
        "subject to:\n",
        "i∑α iy i=0,0≤α i ≤C\n",
        "Only data points with non-zero 𝛼𝑖α i\n",
        "become support vectors. This dual form is useful especially when applying kernels.\n",
        "\n",
        "---\n",
        "###5. What are Support Vectors in SVM?\n",
        "Support Vectors are the data points that lie closest to the decision boundary. They are the critical elements of the dataset because the position of the hyperplane depends entirely on them. Removing a support vector changes the decision boundary.\n",
        "\n",
        "---\n",
        "###6. What is a Support Vector Classifier (SVC)?\n",
        "SVC is the classification implementation of SVM. It constructs a hyperplane or set of hyperplanes in a high-dimensional space to separate classes with the maximum margin.\n",
        "\n",
        "---\n",
        "###7. What is a Support Vector Regressor (SVR)?\n",
        "SVR is the regression counterpart of SVM. Instead of classifying data, it tries to fit the best line within a margin of tolerance (ε). It penalizes predictions that fall outside this margin.\n",
        "\n",
        "---\n",
        "###8. What is the Kernel Trick in SVM?\n",
        "The Kernel Trick allows SVM to perform non-linear classification by implicitly mapping data into a higher-dimensional space without computing the transformation explicitly. It replaces the dot product\n",
        "\n",
        "𝑥\n",
        "𝑖\n",
        "𝑇\n",
        "𝑥\n",
        "𝑗\n",
        "with a kernel function K(xi, xj)\n",
        "\n",
        "---\n",
        "###9. Compare Linear Kernel, Polynomial Kernel, and RBF Kernel.\n",
        "\n",
        "| **Kernel**        | **Mathematical Function**                          | **Parameters**         | **Use Case**                                   | **Pros**                                        | **Cons**                                  |\n",
        "|-------------------|----------------------------------------------------|------------------------|------------------------------------------------|------------------------------------------------|-------------------------------------------|\n",
        "| **Linear**        | \\( K(x, x') = x^T x' \\)                            | None                   | Linearly separable data                         | Fast, simple, less prone to overfitting        | Not suitable for non-linear problems       |\n",
        "| **Polynomial**    | \\( K(x, x') = (x^T x' + c)^d \\)                    | `degree`, `coef0`      | When interactions follow polynomial patterns    | Can model complex relationships                | Computationally expensive at high degrees  |\n",
        "| **RBF (Gaussian)**| \\( K(x, x') = \\exp(-\\gamma \\|x - x'\\|^2) \\)        | `gamma`                | Most real-world non-linear problems             | Flexible, powerful, widely used                | Sensitive to gamma and C parameters        |\n",
        "\n",
        "---\n",
        "###10.What is the effect of the C parameter in SVM?\n",
        "C is the regularization parameter.\n",
        "\n",
        "A high C value tries to classify all training examples correctly (low bias, high variance), potentially overfitting.\n",
        "\n",
        "A low C allows more misclassifications for a larger margin (high bias, low variance), promoting generalization.\n",
        "\n",
        "---\n",
        "###11. What is the role of the Gamma parameter in RBF Kernel SVM?\n",
        "Gamma defines how far the influence of a single training example reaches.\n",
        "\n",
        "A high gamma results in small radius of influence — very complex decision boundaries, leading to overfitting.\n",
        "\n",
        "A low gamma gives smoother decision boundaries — possibly underfitting.\n",
        "\n",
        "---\n",
        "###12. What is the Naïve Bayes classifier, and why is it called \"Naïve\"?\n",
        "Naïve Bayes is a probabilistic classifier based on Bayes’ Theorem. It assumes that features are conditionally independent given the class label.\n",
        "It is called “naïve” because this independence assumption is rarely true in real-world data, yet the model often performs surprisingly well.\n",
        "\n",
        "---\n",
        "###13. What is Bayes’ Theorem?\n",
        "Bayes’ Theorem relates the conditional and marginal probabilities of random events:\n",
        "P(y|x) = (P(X|y)*P(y)) / P(X)\n",
        "\n",
        "Were:\n",
        "\n",
        "P(y|x) = Posterior (probability of class y given input X)     \n",
        "P(X|y) = Likelihood (probability of input X given class y)       \n",
        "P(y) = Prior probability of class y            \n",
        "P(X) = Evidence (total probability of X across all classes)\n",
        "\n",
        "---\n",
        "###14. Differences between Gaussian, Multinomial, and Bernoulli Naïve Bayes\n",
        "\n",
        "| **Variant**     | **Feature Type**                    | **Use Case**                                 |\n",
        "| --------------- | ----------------------------------- | -------------------------------------------- |\n",
        "| **Gaussian**    | Continuous features (real values)   | Sensor data, medical data, etc.              |\n",
        "| **Multinomial** | Discrete counts (e.g., word counts) | Text classification, document classification |\n",
        "| **Bernoulli**   | Binary features (0 or 1)            | Text presence/absence, spam filtering        |\n",
        "\n",
        "---\n",
        "###15. When should you use Gaussian Naïve Bayes over other variants?\n",
        "Use Gaussian Naïve Bayes when your input features are continuous and normally distributed — e.g., biometric measurements, temperature, or health indicators.\n",
        "\n",
        "---\n",
        "###16. What are the key assumptions made by Naïve Bayes?\n",
        "1. Feature Independence: All features are independent given the class label.\n",
        "\n",
        "2. Equal Contribution: Each feature contributes equally and independently to the outcome.\n",
        "\n",
        "3. Feature Distribution: Depends on variant (e.g., Gaussian assumes normal distribution)\n",
        "\n",
        "---\n",
        "###17. What are the advantages and disadvantages of Naïve Bayes?\n",
        "[Advantages]\n",
        "\n",
        "Simple and fast\n",
        "\n",
        "Works well with small datasets\n",
        "\n",
        "Effective for high-dimensional data (e.g., text)\n",
        "\n",
        "Robust to irrelevant features\n",
        "\n",
        "[Disadvantages]\n",
        "\n",
        "Assumes feature independence (often unrealistic)\n",
        "\n",
        "Poor estimation of probabilities\n",
        "\n",
        "Struggles when features are highly correlated\n",
        "\n",
        "---\n",
        "###18.  Why is Naïve Bayes a good choice for text classification?\n",
        "Text features (words) are high-dimensional and sparse — ideal for Naïve Bayes.\n",
        "\n",
        "Naïve Bayes handles word frequencies well (Multinomial NB).\n",
        "\n",
        "It is fast, scalable, and robust to irrelevant words.\n",
        "\n",
        "---\n",
        "###19. Compare SVM and Naïve Bayes for classification tasks\n",
        "| Feature              | **Naïve Bayes**                | **SVM**                               |\n",
        "| -------------------- | ------------------------------ | ------------------------------------- |\n",
        "| **Type**             | Probabilistic                  | Discriminative                        |\n",
        "| **Speed**            | Very fast                      | Slower, especially on large datasets  |\n",
        "| **Performance**      | Good on text data              | Great for margin-based classification |\n",
        "| **Interpretability** | Easy to interpret              | Less interpretable                    |\n",
        "| **Assumptions**      | Strong independence assumption | No such assumption                    |\n",
        "| **Outlier Handling** | Less robust                    | More robust                           |\n",
        "\n",
        "---\n",
        "###20.  How does Laplace Smoothing help in Naïve Bayes?\n",
        "Laplace Smoothing (also called add-one smoothing) prevents zero probabilities for unseen features in the training data.\n",
        "It adds 1 to all feature counts:\n",
        "\n",
        "\\[\n",
        "P(x_i|y) = \\frac{\\text{count}(x_i, y) + 1{\\text{count}(y) + k\n",
        "\\]\n",
        "\n",
        "- Ensures no zero-probability for unknown features\n",
        "- `k` = number of unique feature values\n",
        "\n",
        "---\n",
        "---\n",
        "#Practical Answers:-\n",
        "---\n",
        "---\n",
        "###21. Write a Python program to train an SVM Classifier on the Iris dataset and evaluate accuracy."
      ],
      "metadata": {
        "id": "7DO5TEWN7QIU"
      }
    },
    {
      "cell_type": "code",
      "execution_count": null,
      "metadata": {
        "id": "5igngruN7OPq"
      },
      "outputs": [],
      "source": [
        "from sklearn.datasets import load_iris\n",
        "from sklearn.svm import SVC\n",
        "from sklearn.model_selection import train_test_split\n",
        "from sklearn.metrics import accuracy_score\n",
        "\n",
        "iris = load_iris()\n",
        "X, y = iris.data, iris.target\n",
        "\n",
        "X_train, X_test, y_train, y_test = train_test_split(X, y, test_size=0.2, random_state=42)\n",
        "\n",
        "model = SVC(kernel='linear')\n",
        "model.fit(X_train, y_train)\n",
        "\n",
        "y_pred = model.predict(X_test)\n",
        "print(\"Accuracy:\", accuracy_score(y_test, y_pred))"
      ]
    },
    {
      "cell_type": "markdown",
      "source": [
        "###22. Write a Python program to train two SVM classifiers with Linear and RBF kernels on the Wine dataset, then compare their accuracies."
      ],
      "metadata": {
        "id": "xupJLo52bg-3"
      }
    },
    {
      "cell_type": "code",
      "source": [
        "from sklearn.datasets import load_wine\n",
        "from sklearn.svm import SVC\n",
        "from sklearn.model_selection import train_test_split\n",
        "from sklearn.metrics import accuracy_score\n",
        "\n",
        "wine = load_wine()\n",
        "X, y = wine.data, wine.target\n",
        "X_train, X_test, y_train, y_test = train_test_split(X, y, test_size=0.2, random_state=42)\n",
        "\n",
        "linear_model = SVC(kernel='linear')\n",
        "rbf_model = SVC(kernel='rbf')\n",
        "\n",
        "linear_model.fit(X_train, y_train)\n",
        "rbf_model.fit(X_train, y_train)\n",
        "\n",
        "linear_acc = accuracy_score(y_test, linear_model.predict(X_test))\n",
        "rbf_acc = accuracy_score(y_test, rbf_model.predict(X_test))\n",
        "\n",
        "print(\"Linear Kernel Accuracy:\", linear_acc)\n",
        "print(\"RBF Kernel Accuracy:\", rbf_acc)"
      ],
      "metadata": {
        "id": "M5upLqrzbwq9"
      },
      "execution_count": null,
      "outputs": []
    },
    {
      "cell_type": "markdown",
      "source": [
        "###23. Write a Python program to train an SVM Regressor (SVR) on a housing dataset and evaluate it using Mean Squared Error (MSE)."
      ],
      "metadata": {
        "id": "534pb9LYcR4W"
      }
    },
    {
      "cell_type": "code",
      "source": [
        "from sklearn.datasets import fetch_california_housing\n",
        "from sklearn.svm import SVR\n",
        "from sklearn.model_selection import train_test_split\n",
        "from sklearn.metrics import mean_squared_error\n",
        "\n",
        "data = fetch_california_housing()\n",
        "X, y = data.data, data.target\n",
        "\n",
        "X_train, X_test, y_train, y_test = train_test_split(X, y, test_size=0.2, random_state=42)\n",
        "\n",
        "model = SVR(kernel='rbf')\n",
        "model.fit(X_train, y_train)\n",
        "\n",
        "y_pred = model.predict(X_test)\n",
        "mse = mean_squared_error(y_test, y_pred)\n",
        "print(\"Mean Squared Error:\", mse)"
      ],
      "metadata": {
        "id": "1wxqd8Y5cW5b"
      },
      "execution_count": null,
      "outputs": []
    },
    {
      "cell_type": "markdown",
      "source": [
        "###24.  Write a Python program to train an SVM Classifier with a Polynomial Kernel and visualize the decision boundary."
      ],
      "metadata": {
        "id": "cDXD2NTica_r"
      }
    },
    {
      "cell_type": "code",
      "source": [
        "import numpy as np\n",
        "import matplotlib.pyplot as plt\n",
        "from sklearn.datasets import make_classification\n",
        "from sklearn.svm import SVC\n",
        "\n",
        "X, y = make_classification(n_features=2, n_redundant=0, n_informative=2,\n",
        "                           n_clusters_per_class=1, n_samples=100, random_state=42)\n",
        "\n",
        "model = SVC(kernel='poly', degree=3)\n",
        "model.fit(X, y)\n",
        "\n",
        "# Plot decision boundary\n",
        "def plot_decision_boundary(model, X, y):\n",
        "    h = 0.02\n",
        "    x_min, x_max = X[:, 0].min() - 1, X[:, 0].max() + 1\n",
        "    y_min, y_max = X[:, 1].min() - 1, X[:, 1].max() + 1\n",
        "    xx, yy = np.meshgrid(np.arange(x_min, x_max, h), np.arange(y_min, y_max, h))\n",
        "    Z = model.predict(np.c_[xx.ravel(), yy.ravel()])\n",
        "    Z = Z.reshape(xx.shape)\n",
        "\n",
        "    plt.contourf(xx, yy, Z, alpha=0.8)\n",
        "    plt.scatter(X[:, 0], X[:, 1], c=y, edgecolors='k')\n",
        "    plt.title(\"SVM with Polynomial Kernel\")\n",
        "    plt.xlabel(\"Feature 1\")\n",
        "    plt.ylabel(\"Feature 2\")\n",
        "    plt.show()\n",
        "\n",
        "plot_decision_boundary(model, X, y)"
      ],
      "metadata": {
        "colab": {
          "base_uri": "https://localhost:8080/",
          "height": 472
        },
        "id": "p_4IP0TYcjsr",
        "outputId": "ab0d0c99-1e04-4b88-b6aa-4ac76552d6e8"
      },
      "execution_count": 1,
      "outputs": [
        {
          "output_type": "display_data",
          "data": {
            "text/plain": [
              "<Figure size 640x480 with 1 Axes>"
            ],
            "image/png": "[encoded data removed]"
          },
          "metadata": {}
        }
      ]
    },
    {
      "cell_type": "markdown",
      "source": [
        "###25. Write a Python program to train a Gaussian Naïve Bayes classifier on the Breast Cancer dataset and evaluate accuracy."
      ],
      "metadata": {
        "id": "21q2m3bZdDGS"
      }
    },
    {
      "cell_type": "code",
      "source": [
        "from sklearn.datasets import load_breast_cancer\n",
        "from sklearn.naive_bayes import GaussianNB\n",
        "from sklearn.model_selection import train_test_split\n",
        "from sklearn.metrics import accuracy_score\n",
        "\n",
        "data = load_breast_cancer()\n",
        "X, y = data.data, data.target\n",
        "\n",
        "X_train, X_test, y_train, y_test = train_test_split(X, y, test_size=0.2, random_state=42)\n",
        "\n",
        "model = GaussianNB()\n",
        "model.fit(X_train, y_train)\n",
        "\n",
        "y_pred = model.predict(X_test)\n",
        "print(\"Accuracy:\", accuracy_score(y_test, y_pred))"
      ],
      "metadata": {
        "id": "fakxFy1XdWOh"
      },
      "execution_count": null,
      "outputs": []
    },
    {
      "cell_type": "markdown",
      "source": [
        "###26. Write a Python program to train a Multinomial Naïve Bayes classifier for text classification using the 20 Newsgroups dataset.\n"
      ],
      "metadata": {
        "id": "z7-j1WqBdYXx"
      }
    },
    {
      "cell_type": "code",
      "source": [
        "from sklearn.datasets import fetch_20newsgroups\n",
        "from sklearn.feature_extraction.text import CountVectorizer\n",
        "from sklearn.naive_bayes import MultinomialNB\n",
        "from sklearn.model_selection import train_test_split\n",
        "from sklearn.metrics import accuracy_score\n",
        "\n",
        "data = fetch_20newsgroups(subset='all', remove=('headers', 'footers', 'quotes'))\n",
        "\n",
        "X_train, X_test, y_train, y_test = train_test_split(data.data, data.target, test_size=0.2, random_state=42)\n",
        "\n",
        "vectorizer = CountVectorizer(stop_words='english')\n",
        "X_train_vec = vectorizer.fit_transform(X_train)\n",
        "X_test_vec = vectorizer.transform(X_test)\n",
        "\n",
        "model = MultinomialNB()\n",
        "model.fit(X_train_vec, y_train)\n",
        "\n",
        "y_pred = model.predict(X_test_vec)\n",
        "print(\"Accuracy:\", accuracy_score(y_test, y_pred))"
      ],
      "metadata": {
        "id": "O3yvAzMudtyY"
      },
      "execution_count": null,
      "outputs": []
    },
    {
      "cell_type": "markdown",
      "source": [
        "###27. Write a Python program to train an SVM Classifier with different C values and compare the decision boundaries visually."
      ],
      "metadata": {
        "id": "OUvPPQL0d6-3"
      }
    },
    {
      "cell_type": "code",
      "source": [
        "import numpy as np\n",
        "import matplotlib.pyplot as plt\n",
        "from sklearn import datasets\n",
        "from sklearn.svm import SVC\n",
        "\n",
        "X, y = datasets.make_classification(n_features=2, n_redundant=0, n_informative=2,\n",
        "                                    n_clusters_per_class=1, n_samples=100, random_state=42)\n",
        "\n",
        "C_values = [0.01, 0.1, 1, 10]\n",
        "plt.figure(figsize=(12, 10))\n",
        "\n",
        "for i, C in enumerate(C_values, 1):\n",
        "    model = SVC(kernel='linear', C=C)\n",
        "    model.fit(X, y)\n",
        "\n",
        "    plt.subplot(2, 2, i)\n",
        "    ax = plt.gca()\n",
        "\n",
        "    xlim = ax.get_xlim()\n",
        "    ylim = ax.get_ylim()\n",
        "\n",
        "    xx, yy = np.meshgrid(np.linspace(*xlim, num=200),\n",
        "                         np.linspace(*ylim, num=200))\n",
        "    Z = model.decision_function(np.c_[xx.ravel(), yy.ravel()])\n",
        "    Z = Z.reshape(xx.shape)\n",
        "\n",
        "    plt.contour(xx, yy, Z, levels=[-1, 0, 1], linestyles=['--', '-', '--'])\n",
        "    plt.scatter(X[:, 0], X[:, 1], c=y, edgecolors='k')\n",
        "    plt.title(f\"C = {C}\")\n",
        "\n",
        "plt.tight_layout()\n",
        "plt.show()"
      ],
      "metadata": {
        "id": "b6KJ5lN3eCG3"
      },
      "execution_count": null,
      "outputs": []
    },
    {
      "cell_type": "markdown",
      "source": [
        "###28. Write a Python program to train a Bernoulli Naïve Bayes classifier for binary classification on a dataset with binary features."
      ],
      "metadata": {
        "id": "Vi0Be3twfYC7"
      }
    },
    {
      "cell_type": "code",
      "source": [
        "from sklearn.naive_bayes import BernoulliNB\n",
        "from sklearn.datasets import make_classification\n",
        "from sklearn.model_selection import train_test_split\n",
        "from sklearn.metrics import accuracy_score\n",
        "\n",
        "X, y = make_classification(n_features=10, n_informative=5, n_redundant=0, n_clusters_per_class=1,\n",
        "                           n_samples=1000, random_state=42)\n",
        "X_binary = (X > 0).astype(int)  # Convert to binary\n",
        "\n",
        "X_train, X_test, y_train, y_test = train_test_split(X_binary, y, test_size=0.2, random_state=42)\n",
        "\n",
        "model = BernoulliNB()\n",
        "model.fit(X_train, y_train)\n",
        "\n",
        "y_pred = model.predict(X_test)\n",
        "print(\"Accuracy:\", accuracy_score(y_test, y_pred))"
      ],
      "metadata": {
        "id": "oqjAr5lNgKpY"
      },
      "execution_count": null,
      "outputs": []
    },
    {
      "cell_type": "markdown",
      "source": [
        "###29. Write a Python program to apply feature scaling before training an SVM model and compare results with unscaled data."
      ],
      "metadata": {
        "id": "LvfnO4augOaI"
      }
    },
    {
      "cell_type": "code",
      "source": [
        "from sklearn.datasets import load_iris\n",
        "from sklearn.svm import SVC\n",
        "from sklearn.model_selection import train_test_split\n",
        "from sklearn.preprocessing import StandardScaler\n",
        "from sklearn.metrics import accuracy_score\n",
        "\n",
        "iris = load_iris()\n",
        "X, y = iris.data, iris.target\n",
        "\n",
        "X_train, X_test, y_train, y_test = train_test_split(X, y, test_size=0.2, random_state=42)\n",
        "\n",
        "# Without scaling\n",
        "model1 = SVC()\n",
        "model1.fit(X_train, y_train)\n",
        "acc1 = accuracy_score(y_test, model1.predict(X_test))\n",
        "\n",
        "# With scaling\n",
        "scaler = StandardScaler()\n",
        "X_train_scaled = scaler.fit_transform(X_train)\n",
        "X_test_scaled = scaler.transform(X_test)\n",
        "\n",
        "model2 = SVC()\n",
        "model2.fit(X_train_scaled, y_train)\n",
        "acc2 = accuracy_score(y_test, model2.predict(X_test_scaled))\n",
        "\n",
        "print(\"Accuracy without scaling:\", acc1)\n",
        "print(\"Accuracy with scaling:\", acc2)"
      ],
      "metadata": {
        "id": "A7lfQrTxgVhY"
      },
      "execution_count": null,
      "outputs": []
    },
    {
      "cell_type": "markdown",
      "source": [
        "###30. Write a Python program to train a Gaussian Naïve Bayes model and compare the predictions before and after Laplace Smoothing."
      ],
      "metadata": {
        "id": "RpkHieRHgid3"
      }
    },
    {
      "cell_type": "code",
      "source": [
        "from sklearn.naive_bayes import MultinomialNB\n",
        "from sklearn.feature_extraction.text import CountVectorizer\n",
        "from sklearn.model_selection import train_test_split\n",
        "from sklearn.metrics import accuracy_score\n",
        "\n",
        "docs = [\"free offer\", \"free money now\", \"call now\", \"hello friend\", \"how are you\", \"nice to meet you\"]\n",
        "labels = [1, 1, 1, 0, 0, 0]\n",
        "\n",
        "X_train, X_test, y_train, y_test = train_test_split(docs, labels, test_size=0.3, random_state=42)\n",
        "\n",
        "vectorizer = CountVectorizer()\n",
        "X_train_counts = vectorizer.fit_transform(X_train)\n",
        "X_test_counts = vectorizer.transform(X_test)\n",
        "\n",
        "# Without Laplace Smoothing (alpha=0.0)\n",
        "model1 = MultinomialNB(alpha=0.0)\n",
        "model1.fit(X_train_counts, y_train)\n",
        "pred1 = model1.predict(X_test_counts)\n",
        "\n",
        "# With Laplace Smoothing (alpha=1.0)\n",
        "model2 = MultinomialNB(alpha=1.0)\n",
        "model2.fit(X_train_counts, y_train)\n",
        "pred2 = model2.predict(X_test_counts)\n",
        "\n",
        "print(\"Accuracy without smoothing:\", accuracy_score(y_test, pred1))\n",
        "print(\"Accuracy with Laplace smoothing:\", accuracy_score(y_test, pred2))"
      ],
      "metadata": {
        "id": "c3qb7PzXgmb3"
      },
      "execution_count": null,
      "outputs": []
    },
    {
      "cell_type": "markdown",
      "source": [
        "###31. Write a Python program to train an SVM Classifier and use GridSearchCV to tune the hyperparameters (C,gamma, kernel)."
      ],
      "metadata": {
        "id": "pioKMKT4gpmn"
      }
    },
    {
      "cell_type": "code",
      "source": [
        "from sklearn.datasets import load_wine\n",
        "from sklearn.model_selection import train_test_split, GridSearchCV\n",
        "from sklearn.svm import SVC\n",
        "from sklearn.metrics import accuracy_score\n",
        "\n",
        "X, y = load_wine(return_X_y=True)\n",
        "X_train, X_test, y_train, y_test = train_test_split(X, y, test_size=0.2, random_state=42)\n",
        "\n",
        "param_grid = {\n",
        "    'C': [0.1, 1, 10],\n",
        "    'gamma': ['scale', 0.01, 0.1],\n",
        "    'kernel': ['linear', 'rbf']\n",
        "}\n",
        "\n",
        "grid = GridSearchCV(SVC(), param_grid, cv=5)\n",
        "grid.fit(X_train, y_train)\n",
        "\n",
        "print(\"Best Parameters:\", grid.best_params_)\n",
        "y_pred = grid.predict(X_test)\n",
        "print(\"Test Accuracy:\", accuracy_score(y_test, y_pred))"
      ],
      "metadata": {
        "id": "MjBq9H6rgvnW"
      },
      "execution_count": null,
      "outputs": []
    },
    {
      "cell_type": "markdown",
      "source": [
        "###32. Write a Python program to train an SVM Classifier on an imbalanced dataset and apply class weighting and check it improve accuracy."
      ],
      "metadata": {
        "id": "7WbEfQZtg4ZX"
      }
    },
    {
      "cell_type": "code",
      "source": [
        "from sklearn.datasets import make_classification\n",
        "from sklearn.svm import SVC\n",
        "from sklearn.model_selection import train_test_split\n",
        "from sklearn.metrics import classification_report\n",
        "\n",
        "X, y = make_classification(n_samples=1000, weights=[0.9, 0.1], n_features=20, random_state=42)\n",
        "X_train, X_test, y_train, y_test = train_test_split(X, y, test_size=0.2, random_state=42)\n",
        "\n",
        "# Without class weighting\n",
        "model1 = SVC()\n",
        "model1.fit(X_train, y_train)\n",
        "print(\"Without Class Weight:\")\n",
        "print(classification_report(y_test, model1.predict(X_test)))\n",
        "\n",
        "# With class weighting\n",
        "model2 = SVC(class_weight='balanced')\n",
        "model2.fit(X_train, y_train)\n",
        "print(\"With Class Weight:\")\n",
        "print(classification_report(y_test, model2.predict(X_test)))"
      ],
      "metadata": {
        "id": "TKrYpr9fg-JW"
      },
      "execution_count": null,
      "outputs": []
    },
    {
      "cell_type": "markdown",
      "source": [
        "###33. Write a Python program to implement a Naïve Bayes classifier for spam detection using email data."
      ],
      "metadata": {
        "id": "lIMVy9olhsJk"
      }
    },
    {
      "cell_type": "code",
      "source": [
        "from sklearn.naive_bayes import MultinomialNB\n",
        "from sklearn.feature_extraction.text import CountVectorizer\n",
        "from sklearn.model_selection import train_test_split\n",
        "from sklearn.metrics import accuracy_score\n",
        "\n",
        "texts = [\"free cash offer\", \"limited time offer\", \"win big money\", \"hello friend\", \"how are you\", \"see you soon\"]\n",
        "labels = [1, 1, 1, 0, 0, 0]  # 1 = spam, 0 = not spam\n",
        "\n",
        "vectorizer = CountVectorizer()\n",
        "X = vectorizer.fit_transform(texts)\n",
        "X_train, X_test, y_train, y_test = train_test_split(X, labels, test_size=0.2, random_state=42)\n",
        "\n",
        "model = MultinomialNB()\n",
        "model.fit(X_train, y_train)\n",
        "y_pred = model.predict(X_test)\n",
        "\n",
        "print(\"Spam Detection Accuracy:\", accuracy_score(y_test, y_pred))"
      ],
      "metadata": {
        "id": "Bh-nYQG7hzOD"
      },
      "execution_count": null,
      "outputs": []
    },
    {
      "cell_type": "markdown",
      "source": [
        "###34. Write a Python program to train an SVM Classifier and a Naïve Bayes Classifier on the same dataset and compare their accuracy."
      ],
      "metadata": {
        "id": "bf9XPGbbh4Zz"
      }
    },
    {
      "cell_type": "code",
      "source": [
        "from sklearn.datasets import load_iris\n",
        "from sklearn.model_selection import train_test_split\n",
        "from sklearn.svm import SVC\n",
        "from sklearn.naive_bayes import GaussianNB\n",
        "from sklearn.metrics import accuracy_score\n",
        "\n",
        "X, y = load_iris(return_X_y=True)\n",
        "X_train, X_test, y_train, y_test = train_test_split(X, y, test_size=0.2, random_state=42)\n",
        "\n",
        "# SVM\n",
        "svm_model = SVC()\n",
        "svm_model.fit(X_train, y_train)\n",
        "svm_acc = accuracy_score(y_test, svm_model.predict(X_test))\n",
        "\n",
        "# Naïve Bayes\n",
        "nb_model = GaussianNB()\n",
        "nb_model.fit(X_train, y_train)\n",
        "nb_acc = accuracy_score(y_test, nb_model.predict(X_test))\n",
        "\n",
        "print(\"SVM Accuracy:\", svm_acc)\n",
        "print(\"Naïve Bayes Accuracy:\", nb_acc)"
      ],
      "metadata": {
        "id": "cv3Q2qIfh9X7"
      },
      "execution_count": null,
      "outputs": []
    },
    {
      "cell_type": "markdown",
      "source": [
        "###35. Write a Python program to perform feature selection before training a Naïve Bayes classifier and compare results."
      ],
      "metadata": {
        "id": "c0HHG4twiA3j"
      }
    },
    {
      "cell_type": "code",
      "source": [
        "from sklearn.datasets import load_breast_cancer\n",
        "from sklearn.feature_selection import SelectKBest, f_classif\n",
        "from sklearn.model_selection import train_test_split\n",
        "from sklearn.naive_bayes import GaussianNB\n",
        "from sklearn.metrics import accuracy_score\n",
        "\n",
        "X, y = load_breast_cancer(return_X_y=True)\n",
        "X_new = SelectKBest(score_func=f_classif, k=10).fit_transform(X, y)\n",
        "\n",
        "X_train, X_test, y_train, y_test = train_test_split(X, y, test_size=0.2, random_state=42)\n",
        "X_train_new, X_test_new, _, _ = train_test_split(X_new, y, test_size=0.2, random_state=42)\n",
        "\n",
        "# Without Feature Selection\n",
        "model1 = GaussianNB()\n",
        "model1.fit(X_train, y_train)\n",
        "acc1 = accuracy_score(y_test, model1.predict(X_test))\n",
        "\n",
        "# With Feature Selection\n",
        "model2 = GaussianNB()\n",
        "model2.fit(X_train_new, y_train)\n",
        "acc2 = accuracy_score(y_test, model2.predict(X_test_new))\n",
        "\n",
        "print(\"Accuracy without Feature Selection:\", acc1)\n",
        "print(\"Accuracy with Feature Selection:\", acc2)"
      ],
      "metadata": {
        "id": "Mj6zEZMgiHPr"
      },
      "execution_count": null,
      "outputs": []
    },
    {
      "cell_type": "markdown",
      "source": [
        "###36. Write a Python program to train an SVM Classifier using One-vs-Rest (OvR) and One-vs-One (OvO) strategies on the Wine dataset and compare their accuracy."
      ],
      "metadata": {
        "id": "wmL1SdiKiLcb"
      }
    },
    {
      "cell_type": "code",
      "source": [
        "from sklearn.datasets import load_wine\n",
        "from sklearn.model_selection import train_test_split\n",
        "from sklearn.svm import SVC\n",
        "from sklearn.multiclass import OneVsRestClassifier, OneVsOneClassifier\n",
        "from sklearn.metrics import accuracy_score\n",
        "\n",
        "X, y = load_wine(return_X_y=True)\n",
        "X_train, X_test, y_train, y_test = train_test_split(X, y, test_size=0.2, random_state=42)\n",
        "\n",
        "# One-vs-Rest\n",
        "ovr = OneVsRestClassifier(SVC(kernel='linear'))\n",
        "ovr.fit(X_train, y_train)\n",
        "print(\"OvR Accuracy:\", accuracy_score(y_test, ovr.predict(X_test)))\n",
        "\n",
        "# One-vs-One\n",
        "ovo = OneVsOneClassifier(SVC(kernel='linear'))\n",
        "ovo.fit(X_train, y_train)\n",
        "print(\"OvO Accuracy:\", accuracy_score(y_test, ovo.predict(X_test)))"
      ],
      "metadata": {
        "id": "ZAM5qFwriSCC"
      },
      "execution_count": null,
      "outputs": []
    },
    {
      "cell_type": "markdown",
      "source": [
        "###37. Write a Python program to train an SVM Classifier using Linear, Polynomial, and RBF kernels on the Breast Cancer dataset and compare their accuracy."
      ],
      "metadata": {
        "id": "NZxfuAiaiZcy"
      }
    },
    {
      "cell_type": "code",
      "source": [
        "from sklearn.datasets import load_breast_cancer\n",
        "from sklearn.model_selection import train_test_split\n",
        "from sklearn.svm import SVC\n",
        "from sklearn.metrics import accuracy_score\n",
        "\n",
        "X, y = load_breast_cancer(return_X_y=True)\n",
        "X_train, X_test, y_train, y_test = train_test_split(X, y, test_size=0.2, random_state=42)\n",
        "\n",
        "kernels = ['linear', 'poly', 'rbf']\n",
        "for k in kernels:\n",
        "    model = SVC(kernel=k)\n",
        "    model.fit(X_train, y_train)\n",
        "    acc = accuracy_score(y_test, model.predict(X_test))\n",
        "    print(f\"{k.capitalize()} Kernel Accuracy: {acc}\")"
      ],
      "metadata": {
        "id": "uq8qDlgDiggp"
      },
      "execution_count": null,
      "outputs": []
    },
    {
      "cell_type": "markdown",
      "source": [
        "###38. Write a Python program to train an SVM Classifier using Stratified K-Fold Cross-Validation and compute the average accuracy."
      ],
      "metadata": {
        "id": "QGdKQBlTijpC"
      }
    },
    {
      "cell_type": "code",
      "source": [
        "from sklearn.datasets import load_iris\n",
        "from sklearn.model_selection import StratifiedKFold, cross_val_score\n",
        "from sklearn.svm import SVC\n",
        "import numpy as np\n",
        "\n",
        "X, y = load_iris(return_X_y=True)\n",
        "skf = StratifiedKFold(n_splits=5)\n",
        "\n",
        "model = SVC(kernel='rbf')\n",
        "scores = cross_val_score(model, X, y, cv=skf)\n",
        "\n",
        "print(\"Cross-Validation Scores:\", scores)\n",
        "print(\"Average Accuracy:\", np.mean(scores))"
      ],
      "metadata": {
        "id": "kUBfMg_uipNR"
      },
      "execution_count": null,
      "outputs": []
    },
    {
      "cell_type": "markdown",
      "source": [
        "###39.  Write a Python program to train a Naïve Bayes classifier using different prior probabilities and compare performance."
      ],
      "metadata": {
        "id": "3e_B6shIir3p"
      }
    },
    {
      "cell_type": "code",
      "source": [
        "from sklearn.datasets import load_iris\n",
        "from sklearn.model_selection import train_test_split\n",
        "from sklearn.naive_bayes import GaussianNB\n",
        "from sklearn.metrics import accuracy_score\n",
        "\n",
        "X, y = load_iris(return_X_y=True)\n",
        "X_train, X_test, y_train, y_test = train_test_split(X, y, test_size=0.2, random_state=42)\n",
        "\n",
        "# Default priors\n",
        "model1 = GaussianNB()\n",
        "model1.fit(X_train, y_train)\n",
        "acc1 = accuracy_score(y_test, model1.predict(X_test))\n",
        "\n",
        "# Custom priors\n",
        "model2 = GaussianNB(priors=[0.5, 0.3, 0.2])\n",
        "model2.fit(X_train, y_train)\n",
        "acc2 = accuracy_score(y_test, model2.predict(X_test))\n",
        "\n",
        "print(\"Accuracy with Default Priors:\", acc1)\n",
        "print(\"Accuracy with Custom Priors:\", acc2)"
      ],
      "metadata": {
        "id": "I9H_gHbrixjo"
      },
      "execution_count": null,
      "outputs": []
    },
    {
      "cell_type": "markdown",
      "source": [
        "###40. = Write a Python program to perform Recursive Feature Elimination (RFE) before training an SVM Classifier and compare accuracy."
      ],
      "metadata": {
        "id": "Gos7hNdGi0-p"
      }
    },
    {
      "cell_type": "code",
      "source": [
        "from sklearn.datasets import load_wine\n",
        "from sklearn.feature_selection import RFE\n",
        "from sklearn.model_selection import train_test_split\n",
        "from sklearn.svm import SVC\n",
        "from sklearn.metrics import accuracy_score\n",
        "\n",
        "X, y = load_wine(return_X_y=True)\n",
        "X_train, X_test, y_train, y_test = train_test_split(X, y, test_size=0.2, random_state=42)\n",
        "\n",
        "# Recursive Feature Elimination\n",
        "svc = SVC(kernel=\"linear\")\n",
        "rfe = RFE(estimator=svc, n_features_to_select=10)\n",
        "X_train_rfe = rfe.fit_transform(X_train, y_train)\n",
        "X_test_rfe = rfe.transform(X_test)\n",
        "\n",
        "svc.fit(X_train, y_train)\n",
        "acc1 = accuracy_score(y_test, svc.predict(X_test))\n",
        "\n",
        "svc.fit(X_train_rfe, y_train)\n",
        "acc2 = accuracy_score(y_test, svc.predict(X_test_rfe))\n",
        "\n",
        "print(\"Accuracy without RFE:\", acc1)\n",
        "print(\"Accuracy with RFE:\", acc2)"
      ],
      "metadata": {
        "id": "FTdo8y9oi6Zg"
      },
      "execution_count": null,
      "outputs": []
    },
    {
      "cell_type": "markdown",
      "source": [
        "###41. Write a Python program to train an SVM Classifier and evaluate its performance using Precision, Recall, and F1-Score instead of accuracy."
      ],
      "metadata": {
        "id": "SKj4uIfxi9Fg"
      }
    },
    {
      "cell_type": "code",
      "source": [
        "from sklearn.datasets import load_breast_cancer\n",
        "from sklearn.model_selection import train_test_split\n",
        "from sklearn.svm import SVC\n",
        "from sklearn.metrics import precision_score, recall_score, f1_score\n",
        "\n",
        "X, y = load_breast_cancer(return_X_y=True)\n",
        "X_train, X_test, y_train, y_test = train_test_split(X, y, test_size=0.2, random_state=42)\n",
        "\n",
        "model = SVC(kernel='rbf')\n",
        "model.fit(X_train, y_train)\n",
        "y_pred = model.predict(X_test)\n",
        "\n",
        "print(\"Precision:\", precision_score(y_test, y_pred))\n",
        "print(\"Recall:\", recall_score(y_test, y_pred))\n",
        "print(\"F1 Score:\", f1_score(y_test, y_pred))"
      ],
      "metadata": {
        "id": "-an29NfejDXg"
      },
      "execution_count": null,
      "outputs": []
    },
    {
      "cell_type": "markdown",
      "source": [
        "###42. Write a Python program to train a Naïve Bayes Classifier and evaluate its performance using Log Loss (Cross-Entropy Loss)."
      ],
      "metadata": {
        "id": "D_RCoFNjjMng"
      }
    },
    {
      "cell_type": "code",
      "source": [
        "from sklearn.datasets import load_breast_cancer\n",
        "from sklearn.model_selection import train_test_split\n",
        "from sklearn.naive_bayes import GaussianNB\n",
        "from sklearn.metrics import log_loss\n",
        "\n",
        "X, y = load_breast_cancer(return_X_y=True)\n",
        "X_train, X_test, y_train, y_test = train_test_split(X, y, test_size=0.2, random_state=42)\n",
        "\n",
        "model = GaussianNB()\n",
        "model.fit(X_train, y_train)\n",
        "y_prob = model.predict_proba(X_test)\n",
        "\n",
        "print(\"Log Loss:\", log_loss(y_test, y_prob))"
      ],
      "metadata": {
        "id": "bZ8LscO7jTkn"
      },
      "execution_count": null,
      "outputs": []
    },
    {
      "cell_type": "markdown",
      "source": [
        "###43. Write a Python program to train an SVM Classifier and visualize the Confusion Matrix using seaborn."
      ],
      "metadata": {
        "id": "zdaVz9WcjWqf"
      }
    },
    {
      "cell_type": "code",
      "source": [
        "import seaborn as sns\n",
        "import matplotlib.pyplot as plt\n",
        "from sklearn.datasets import load_iris\n",
        "from sklearn.model_selection import train_test_split\n",
        "from sklearn.svm import SVC\n",
        "from sklearn.metrics import confusion_matrix\n",
        "\n",
        "X, y = load_iris(return_X_y=True)\n",
        "X_train, X_test, y_train, y_test = train_test_split(X, y, test_size=0.2, random_state=42)\n",
        "\n",
        "model = SVC(kernel='linear')\n",
        "model.fit(X_train, y_train)\n",
        "y_pred = model.predict(X_test)\n",
        "\n",
        "cm = confusion_matrix(y_test, y_pred)\n",
        "sns.heatmap(cm, annot=True, fmt='d', cmap='Blues')\n",
        "plt.title(\"Confusion Matrix\")\n",
        "plt.xlabel(\"Predicted\")\n",
        "plt.ylabel(\"True\")\n",
        "plt.show()"
      ],
      "metadata": {
        "id": "Yu8WxfDpjbEf"
      },
      "execution_count": null,
      "outputs": []
    },
    {
      "cell_type": "markdown",
      "source": [
        "###44.  Write a Python program to train an SVM Regressor (SVR) and evaluate its performance using Mean Absolute Error (MAE) instead of MSE."
      ],
      "metadata": {
        "id": "ZCYvMH6Kjd83"
      }
    },
    {
      "cell_type": "code",
      "source": [
        "from sklearn.datasets import fetch_california_housing\n",
        "from sklearn.model_selection import train_test_split\n",
        "from sklearn.svm import SVR\n",
        "from sklearn.metrics import mean_absolute_error\n",
        "from sklearn.preprocessing import StandardScaler\n",
        "\n",
        "X, y = fetch_california_housing(return_X_y=True)\n",
        "X_train, X_test, y_train, y_test = train_test_split(X, y, test_size=0.2, random_state=42)\n",
        "\n",
        "# Scaling\n",
        "scaler = StandardScaler()\n",
        "X_train = scaler.fit_transform(X_train)\n",
        "X_test = scaler.transform(X_test)\n",
        "\n",
        "model = SVR()\n",
        "model.fit(X_train, y_train)\n",
        "y_pred = model.predict(X_test)\n",
        "\n",
        "print(\"Mean Absolute Error:\", mean_absolute_error(y_test, y_pred))"
      ],
      "metadata": {
        "id": "0BDA4ClJjrM-"
      },
      "execution_count": null,
      "outputs": []
    },
    {
      "cell_type": "markdown",
      "source": [
        "###45. Write a Python program to train a Naïve Bayes classifier and evaluate its performance using the ROC-AUC score."
      ],
      "metadata": {
        "id": "cofZMqeEjusn"
      }
    },
    {
      "cell_type": "code",
      "source": [
        "from sklearn.datasets import load_breast_cancer\n",
        "from sklearn.model_selection import train_test_split\n",
        "from sklearn.naive_bayes import GaussianNB\n",
        "from sklearn.metrics import roc_auc_score\n",
        "\n",
        "X, y = load_breast_cancer(return_X_y=True)\n",
        "X_train, X_test, y_train, y_test = train_test_split(X, y, test_size=0.2, random_state=42)\n",
        "\n",
        "model = GaussianNB()\n",
        "model.fit(X_train, y_train)\n",
        "y_prob = model.predict_proba(X_test)[:, 1]\n",
        "\n",
        "print(\"ROC-AUC Score:\", roc_auc_score(y_test, y_prob))"
      ],
      "metadata": {
        "id": "StdwVyC9j0Xu"
      },
      "execution_count": null,
      "outputs": []
    },
    {
      "cell_type": "markdown",
      "source": [
        "###46. Write a Python program to train an SVM Classifier and visualize the Precision-Recall Curve."
      ],
      "metadata": {
        "id": "wEqa5V56j_XV"
      }
    },
    {
      "cell_type": "code",
      "source": [
        "import matplotlib.pyplot as plt\n",
        "from sklearn.datasets import load_breast_cancer\n",
        "from sklearn.model_selection import train_test_split\n",
        "from sklearn.svm import SVC\n",
        "from sklearn.metrics import precision_recall_curve\n",
        "\n",
        "X, y = load_breast_cancer(return_X_y=True)\n",
        "X_train, X_test, y_train, y_test = train_test_split(X, y, test_size=0.2, random_state=42)\n",
        "\n",
        "model = SVC(probability=True)\n",
        "model.fit(X_train, y_train)\n",
        "y_scores = model.predict_proba(X_test)[:, 1]\n",
        "\n",
        "precision, recall, _ = precision_recall_curve(y_test, y_scores)\n",
        "plt.plot(recall, precision, marker='.')\n",
        "plt.title(\"Precision-Recall Curve\")\n",
        "plt.xlabel(\"Recall\")\n",
        "plt.ylabel(\"Precision\")\n",
        "plt.grid(True)\n",
        "plt.show()"
      ],
      "metadata": {
        "id": "EJrTZiD7kFrF"
      },
      "execution_count": null,
      "outputs": []
    }
  ]
}